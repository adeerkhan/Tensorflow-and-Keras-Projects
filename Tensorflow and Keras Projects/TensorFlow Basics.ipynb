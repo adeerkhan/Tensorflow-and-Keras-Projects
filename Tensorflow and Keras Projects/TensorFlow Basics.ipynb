{
 "cells": [
  {
   "cell_type": "markdown",
   "id": "be7adbd9",
   "metadata": {},
   "source": [
    "## Tensor Flow and Keras Basics using a Regression Data Project"
   ]
  },
  {
   "cell_type": "code",
   "execution_count": 98,
   "id": "3e1101bf",
   "metadata": {},
   "outputs": [],
   "source": [
    "import pandas as pd\n",
    "import numpy as np\n",
    "import seaborn as sns\n",
    "import matplotlib.pyplot as plt\n",
    "%matplotlib inline"
   ]
  },
  {
   "cell_type": "code",
   "execution_count": 34,
   "id": "de9e1409",
   "metadata": {},
   "outputs": [],
   "source": [
    "df = pd.read_csv('DATA/fake_reg.csv')"
   ]
  },
  {
   "cell_type": "code",
   "execution_count": 35,
   "id": "330d1606",
   "metadata": {},
   "outputs": [
    {
     "data": {
      "text/html": [
       "<div>\n",
       "<style scoped>\n",
       "    .dataframe tbody tr th:only-of-type {\n",
       "        vertical-align: middle;\n",
       "    }\n",
       "\n",
       "    .dataframe tbody tr th {\n",
       "        vertical-align: top;\n",
       "    }\n",
       "\n",
       "    .dataframe thead th {\n",
       "        text-align: right;\n",
       "    }\n",
       "</style>\n",
       "<table border=\"1\" class=\"dataframe\">\n",
       "  <thead>\n",
       "    <tr style=\"text-align: right;\">\n",
       "      <th></th>\n",
       "      <th>price</th>\n",
       "      <th>feature1</th>\n",
       "      <th>feature2</th>\n",
       "    </tr>\n",
       "  </thead>\n",
       "  <tbody>\n",
       "    <tr>\n",
       "      <th>0</th>\n",
       "      <td>461.527929</td>\n",
       "      <td>999.787558</td>\n",
       "      <td>999.766096</td>\n",
       "    </tr>\n",
       "    <tr>\n",
       "      <th>1</th>\n",
       "      <td>548.130011</td>\n",
       "      <td>998.861615</td>\n",
       "      <td>1001.042403</td>\n",
       "    </tr>\n",
       "    <tr>\n",
       "      <th>2</th>\n",
       "      <td>410.297162</td>\n",
       "      <td>1000.070267</td>\n",
       "      <td>998.844015</td>\n",
       "    </tr>\n",
       "    <tr>\n",
       "      <th>3</th>\n",
       "      <td>540.382220</td>\n",
       "      <td>999.952251</td>\n",
       "      <td>1000.440940</td>\n",
       "    </tr>\n",
       "    <tr>\n",
       "      <th>4</th>\n",
       "      <td>546.024553</td>\n",
       "      <td>1000.446011</td>\n",
       "      <td>1000.338531</td>\n",
       "    </tr>\n",
       "    <tr>\n",
       "      <th>...</th>\n",
       "      <td>...</td>\n",
       "      <td>...</td>\n",
       "      <td>...</td>\n",
       "    </tr>\n",
       "    <tr>\n",
       "      <th>995</th>\n",
       "      <td>476.526078</td>\n",
       "      <td>1000.018988</td>\n",
       "      <td>999.672732</td>\n",
       "    </tr>\n",
       "    <tr>\n",
       "      <th>996</th>\n",
       "      <td>457.313186</td>\n",
       "      <td>998.855379</td>\n",
       "      <td>1000.020026</td>\n",
       "    </tr>\n",
       "    <tr>\n",
       "      <th>997</th>\n",
       "      <td>456.720992</td>\n",
       "      <td>1001.451646</td>\n",
       "      <td>998.847606</td>\n",
       "    </tr>\n",
       "    <tr>\n",
       "      <th>998</th>\n",
       "      <td>403.315576</td>\n",
       "      <td>1000.771023</td>\n",
       "      <td>998.562851</td>\n",
       "    </tr>\n",
       "    <tr>\n",
       "      <th>999</th>\n",
       "      <td>599.367093</td>\n",
       "      <td>999.232244</td>\n",
       "      <td>1001.451407</td>\n",
       "    </tr>\n",
       "  </tbody>\n",
       "</table>\n",
       "<p>1000 rows × 3 columns</p>\n",
       "</div>"
      ],
      "text/plain": [
       "          price     feature1     feature2\n",
       "0    461.527929   999.787558   999.766096\n",
       "1    548.130011   998.861615  1001.042403\n",
       "2    410.297162  1000.070267   998.844015\n",
       "3    540.382220   999.952251  1000.440940\n",
       "4    546.024553  1000.446011  1000.338531\n",
       "..          ...          ...          ...\n",
       "995  476.526078  1000.018988   999.672732\n",
       "996  457.313186   998.855379  1000.020026\n",
       "997  456.720992  1001.451646   998.847606\n",
       "998  403.315576  1000.771023   998.562851\n",
       "999  599.367093   999.232244  1001.451407\n",
       "\n",
       "[1000 rows x 3 columns]"
      ]
     },
     "execution_count": 35,
     "metadata": {},
     "output_type": "execute_result"
    }
   ],
   "source": [
    "df"
   ]
  },
  {
   "cell_type": "code",
   "execution_count": 36,
   "id": "a51b6be6",
   "metadata": {},
   "outputs": [
    {
     "data": {
      "text/html": [
       "<div>\n",
       "<style scoped>\n",
       "    .dataframe tbody tr th:only-of-type {\n",
       "        vertical-align: middle;\n",
       "    }\n",
       "\n",
       "    .dataframe tbody tr th {\n",
       "        vertical-align: top;\n",
       "    }\n",
       "\n",
       "    .dataframe thead th {\n",
       "        text-align: right;\n",
       "    }\n",
       "</style>\n",
       "<table border=\"1\" class=\"dataframe\">\n",
       "  <thead>\n",
       "    <tr style=\"text-align: right;\">\n",
       "      <th></th>\n",
       "      <th>price</th>\n",
       "      <th>feature1</th>\n",
       "      <th>feature2</th>\n",
       "    </tr>\n",
       "  </thead>\n",
       "  <tbody>\n",
       "    <tr>\n",
       "      <th>count</th>\n",
       "      <td>1000.000000</td>\n",
       "      <td>1000.000000</td>\n",
       "      <td>1000.000000</td>\n",
       "    </tr>\n",
       "    <tr>\n",
       "      <th>mean</th>\n",
       "      <td>498.673029</td>\n",
       "      <td>1000.014171</td>\n",
       "      <td>999.979847</td>\n",
       "    </tr>\n",
       "    <tr>\n",
       "      <th>std</th>\n",
       "      <td>93.785431</td>\n",
       "      <td>0.974018</td>\n",
       "      <td>0.948330</td>\n",
       "    </tr>\n",
       "    <tr>\n",
       "      <th>min</th>\n",
       "      <td>223.346793</td>\n",
       "      <td>997.058347</td>\n",
       "      <td>996.995651</td>\n",
       "    </tr>\n",
       "    <tr>\n",
       "      <th>25%</th>\n",
       "      <td>433.025732</td>\n",
       "      <td>999.332068</td>\n",
       "      <td>999.316106</td>\n",
       "    </tr>\n",
       "    <tr>\n",
       "      <th>50%</th>\n",
       "      <td>502.382117</td>\n",
       "      <td>1000.009915</td>\n",
       "      <td>1000.002243</td>\n",
       "    </tr>\n",
       "    <tr>\n",
       "      <th>75%</th>\n",
       "      <td>564.921588</td>\n",
       "      <td>1000.637580</td>\n",
       "      <td>1000.645380</td>\n",
       "    </tr>\n",
       "    <tr>\n",
       "      <th>max</th>\n",
       "      <td>774.407854</td>\n",
       "      <td>1003.207934</td>\n",
       "      <td>1002.666308</td>\n",
       "    </tr>\n",
       "  </tbody>\n",
       "</table>\n",
       "</div>"
      ],
      "text/plain": [
       "             price     feature1     feature2\n",
       "count  1000.000000  1000.000000  1000.000000\n",
       "mean    498.673029  1000.014171   999.979847\n",
       "std      93.785431     0.974018     0.948330\n",
       "min     223.346793   997.058347   996.995651\n",
       "25%     433.025732   999.332068   999.316106\n",
       "50%     502.382117  1000.009915  1000.002243\n",
       "75%     564.921588  1000.637580  1000.645380\n",
       "max     774.407854  1003.207934  1002.666308"
      ]
     },
     "execution_count": 36,
     "metadata": {},
     "output_type": "execute_result"
    }
   ],
   "source": [
    "df.describe()"
   ]
  },
  {
   "cell_type": "code",
   "execution_count": 37,
   "id": "56e78ed7",
   "metadata": {},
   "outputs": [
    {
     "data": {
      "text/plain": [
       "<seaborn.axisgrid.PairGrid at 0x29bfc092220>"
      ]
     },
     "execution_count": 37,
     "metadata": {},
     "output_type": "execute_result"
    },
    {
     "data": {
      "image/png": "[encoded data removed]",
      "text/plain": [
       "<Figure size 750x750 with 12 Axes>"
      ]
     },
     "metadata": {},
     "output_type": "display_data"
    }
   ],
   "source": [
    "sns.pairplot(df)"
   ]
  },
  {
   "cell_type": "code",
   "execution_count": 38,
   "id": "aac8d86f",
   "metadata": {},
   "outputs": [],
   "source": [
    "from sklearn.model_selection import train_test_split"
   ]
  },
  {
   "cell_type": "code",
   "execution_count": 39,
   "id": "db75e9d4",
   "metadata": {},
   "outputs": [],
   "source": [
    "X = df[['feature1', 'feature2']].values"
   ]
  },
  {
   "cell_type": "code",
   "execution_count": 40,
   "id": "b0b6af8b",
   "metadata": {},
   "outputs": [],
   "source": [
    "y = df['price'].values"
   ]
  },
  {
   "cell_type": "code",
   "execution_count": 41,
   "id": "4c3926cb",
   "metadata": {
    "scrolled": true
   },
   "outputs": [],
   "source": [
    "X_train, X_test, y_train, y_test = train_test_split(X, y, test_size=0.3, random_state=42)"
   ]
  },
  {
   "cell_type": "code",
   "execution_count": 42,
   "id": "a5e73b74",
   "metadata": {},
   "outputs": [
    {
     "data": {
      "text/plain": [
       "(700, 2)"
      ]
     },
     "execution_count": 42,
     "metadata": {},
     "output_type": "execute_result"
    }
   ],
   "source": [
    "X_train.shape"
   ]
  },
  {
   "cell_type": "code",
   "execution_count": 43,
   "id": "e6d70073",
   "metadata": {},
   "outputs": [
    {
     "data": {
      "text/plain": [
       "(300, 2)"
      ]
     },
     "execution_count": 43,
     "metadata": {},
     "output_type": "execute_result"
    }
   ],
   "source": [
    "X_test.shape"
   ]
  },
  {
   "cell_type": "code",
   "execution_count": 44,
   "id": "10f2a401",
   "metadata": {},
   "outputs": [],
   "source": [
    "from sklearn.preprocessing import MinMaxScaler"
   ]
  },
  {
   "cell_type": "code",
   "execution_count": 45,
   "id": "96d9d2fc",
   "metadata": {},
   "outputs": [],
   "source": [
    "# scaling data while dealing with neural networks\n",
    "scaler = MinMaxScaler()"
   ]
  },
  {
   "cell_type": "code",
   "execution_count": 46,
   "id": "6c8eb825",
   "metadata": {},
   "outputs": [
    {
     "data": {
      "text/plain": [
       "MinMaxScaler()"
      ]
     },
     "execution_count": 46,
     "metadata": {},
     "output_type": "execute_result"
    }
   ],
   "source": [
    "scaler.fit(X_train)"
   ]
  },
  {
   "cell_type": "code",
   "execution_count": 47,
   "id": "f3d593be",
   "metadata": {},
   "outputs": [],
   "source": [
    "X_train = scaler.transform(X_train)"
   ]
  },
  {
   "cell_type": "code",
   "execution_count": 48,
   "id": "42090a97",
   "metadata": {},
   "outputs": [],
   "source": [
    "X_test = scaler.transform(X_test)"
   ]
  },
  {
   "cell_type": "code",
   "execution_count": 49,
   "id": "93e8d696",
   "metadata": {},
   "outputs": [],
   "source": [
    "from tensorflow.keras.models import Sequential\n",
    "from tensorflow.keras.layers import Dense"
   ]
  },
  {
   "cell_type": "code",
   "execution_count": 50,
   "id": "03962bed",
   "metadata": {},
   "outputs": [],
   "source": [
    "# make a model by passing layers inside\n",
    "# model = Sequential([Dense(4, activation='relu'), \n",
    "                   # Dense(2, activation='relu'),\n",
    "                   # Dense(1)]) "
   ]
  },
  {
   "cell_type": "code",
   "execution_count": 51,
   "id": "2cc842b2",
   "metadata": {},
   "outputs": [],
   "source": [
    "# another method of passing layer, this a better one for later editing\n",
    "model = Sequential()\n",
    "\n",
    "model.add(Dense(4, activation='relu'))\n",
    "model.add(Dense(4, activation='relu'))\n",
    "model.add(Dense(4, activation='relu'))\n",
    "\n",
    "# output layer\n",
    "model.add(Dense(1))\n",
    "\n",
    "model.compile('rmsprop', loss ='mse')"
   ]
  },
  {
   "cell_type": "code",
   "execution_count": 52,
   "id": "b66bfd6a",
   "metadata": {},
   "outputs": [
    {
     "name": "stdout",
     "output_type": "stream",
     "text": [
      "Epoch 1/250\n",
      "22/22 [==============================] - 1s 2ms/step - loss: 256768.1875\n",
      "Epoch 2/250\n",
      "22/22 [==============================] - 0s 2ms/step - loss: 256671.5000\n",
      "Epoch 3/250\n",
      "22/22 [==============================] - 0s 2ms/step - loss: 256595.8438\n",
      "Epoch 4/250\n",
      "22/22 [==============================] - 0s 2ms/step - loss: 256520.3438\n",
      "Epoch 5/250\n",
      "22/22 [==============================] - 0s 2ms/step - loss: 256440.8281\n",
      "Epoch 6/250\n",
      "22/22 [==============================] - 0s 2ms/step - loss: 256354.1875\n",
      "Epoch 7/250\n",
      "22/22 [==============================] - 0s 2ms/step - loss: 256259.5156\n",
      "Epoch 8/250\n",
      "22/22 [==============================] - 0s 2ms/step - loss: 256156.8438\n",
      "Epoch 9/250\n",
      "22/22 [==============================] - 0s 2ms/step - loss: 256044.3438\n",
      "Epoch 10/250\n",
      "22/22 [==============================] - 0s 2ms/step - loss: 255918.7031\n",
      "Epoch 11/250\n",
      "22/22 [==============================] - 0s 2ms/step - loss: 255781.4844\n",
      "Epoch 12/250\n",
      "22/22 [==============================] - 0s 2ms/step - loss: 255632.3906\n",
      "Epoch 13/250\n",
      "22/22 [==============================] - 0s 2ms/step - loss: 255467.0000\n",
      "Epoch 14/250\n",
      "22/22 [==============================] - 0s 2ms/step - loss: 255274.5156\n",
      "Epoch 15/250\n",
      "22/22 [==============================] - 0s 2ms/step - loss: 255054.5312\n",
      "Epoch 16/250\n",
      "22/22 [==============================] - 0s 2ms/step - loss: 254810.9688\n",
      "Epoch 17/250\n",
      "22/22 [==============================] - 0s 2ms/step - loss: 254540.4531\n",
      "Epoch 18/250\n",
      "22/22 [==============================] - 0s 2ms/step - loss: 254240.2812\n",
      "Epoch 19/250\n",
      "22/22 [==============================] - 0s 2ms/step - loss: 253908.5000\n",
      "Epoch 20/250\n",
      "22/22 [==============================] - 0s 2ms/step - loss: 253539.1250\n",
      "Epoch 21/250\n",
      "22/22 [==============================] - 0s 2ms/step - loss: 253129.7656\n",
      "Epoch 22/250\n",
      "22/22 [==============================] - 0s 2ms/step - loss: 252677.2344\n",
      "Epoch 23/250\n",
      "22/22 [==============================] - 0s 2ms/step - loss: 252179.2188\n",
      "Epoch 24/250\n",
      "22/22 [==============================] - 0s 2ms/step - loss: 251628.8281\n",
      "Epoch 25/250\n",
      "22/22 [==============================] - 0s 2ms/step - loss: 251031.5469\n",
      "Epoch 26/250\n",
      "22/22 [==============================] - 0s 2ms/step - loss: 250382.9688\n",
      "Epoch 27/250\n",
      "22/22 [==============================] - 0s 2ms/step - loss: 249678.0625\n",
      "Epoch 28/250\n",
      "22/22 [==============================] - 0s 2ms/step - loss: 248918.7188\n",
      "Epoch 29/250\n",
      "22/22 [==============================] - 0s 2ms/step - loss: 248093.4375\n",
      "Epoch 30/250\n",
      "22/22 [==============================] - 0s 2ms/step - loss: 247205.4844\n",
      "Epoch 31/250\n",
      "22/22 [==============================] - 0s 2ms/step - loss: 246253.9219\n",
      "Epoch 32/250\n",
      "22/22 [==============================] - 0s 2ms/step - loss: 245242.4688\n",
      "Epoch 33/250\n",
      "22/22 [==============================] - 0s 2ms/step - loss: 244152.3594\n",
      "Epoch 34/250\n",
      "22/22 [==============================] - 0s 2ms/step - loss: 242987.8594\n",
      "Epoch 35/250\n",
      "22/22 [==============================] - 0s 2ms/step - loss: 241752.9375\n",
      "Epoch 36/250\n",
      "22/22 [==============================] - 0s 2ms/step - loss: 240435.0625\n",
      "Epoch 37/250\n",
      "22/22 [==============================] - 0s 2ms/step - loss: 239037.3438\n",
      "Epoch 38/250\n",
      "22/22 [==============================] - 0s 2ms/step - loss: 237555.0625\n",
      "Epoch 39/250\n",
      "22/22 [==============================] - 0s 2ms/step - loss: 235988.3125\n",
      "Epoch 40/250\n",
      "22/22 [==============================] - 0s 2ms/step - loss: 234334.4844\n",
      "Epoch 41/250\n",
      "22/22 [==============================] - 0s 2ms/step - loss: 232588.8906\n",
      "Epoch 42/250\n",
      "22/22 [==============================] - 0s 2ms/step - loss: 230741.3438\n",
      "Epoch 43/250\n",
      "22/22 [==============================] - 0s 2ms/step - loss: 228805.8125\n",
      "Epoch 44/250\n",
      "22/22 [==============================] - 0s 2ms/step - loss: 226759.5938\n",
      "Epoch 45/250\n",
      "22/22 [==============================] - 0s 2ms/step - loss: 224618.4062\n",
      "Epoch 46/250\n",
      "22/22 [==============================] - 0s 2ms/step - loss: 222377.7188\n",
      "Epoch 47/250\n",
      "22/22 [==============================] - 0s 2ms/step - loss: 220025.1719\n",
      "Epoch 48/250\n",
      "22/22 [==============================] - 0s 2ms/step - loss: 217571.4062\n",
      "Epoch 49/250\n",
      "22/22 [==============================] - 0s 2ms/step - loss: 214997.9688\n",
      "Epoch 50/250\n",
      "22/22 [==============================] - 0s 2ms/step - loss: 212316.2500\n",
      "Epoch 51/250\n",
      "22/22 [==============================] - 0s 2ms/step - loss: 209513.2344\n",
      "Epoch 52/250\n",
      "22/22 [==============================] - 0s 2ms/step - loss: 206615.0469\n",
      "Epoch 53/250\n",
      "22/22 [==============================] - 0s 2ms/step - loss: 203589.8438\n",
      "Epoch 54/250\n",
      "22/22 [==============================] - 0s 1ms/step - loss: 200468.0000\n",
      "Epoch 55/250\n",
      "22/22 [==============================] - 0s 2ms/step - loss: 197192.3125\n",
      "Epoch 56/250\n",
      "22/22 [==============================] - 0s 2ms/step - loss: 193820.2031\n",
      "Epoch 57/250\n",
      "22/22 [==============================] - 0s 2ms/step - loss: 190323.3438\n",
      "Epoch 58/250\n",
      "22/22 [==============================] - 0s 2ms/step - loss: 186696.2812\n",
      "Epoch 59/250\n",
      "22/22 [==============================] - 0s 2ms/step - loss: 182984.0781\n",
      "Epoch 60/250\n",
      "22/22 [==============================] - 0s 2ms/step - loss: 179137.5469\n",
      "Epoch 61/250\n",
      "22/22 [==============================] - 0s 2ms/step - loss: 175169.7500\n",
      "Epoch 62/250\n",
      "22/22 [==============================] - 0s 2ms/step - loss: 171090.3594\n",
      "Epoch 63/250\n",
      "22/22 [==============================] - 0s 2ms/step - loss: 166907.7500\n",
      "Epoch 64/250\n",
      "22/22 [==============================] - 0s 2ms/step - loss: 162595.4688\n",
      "Epoch 65/250\n",
      "22/22 [==============================] - 0s 2ms/step - loss: 158197.8594\n",
      "Epoch 66/250\n",
      "22/22 [==============================] - 0s 2ms/step - loss: 153676.4844\n",
      "Epoch 67/250\n",
      "22/22 [==============================] - 0s 2ms/step - loss: 149031.4219\n",
      "Epoch 68/250\n",
      "22/22 [==============================] - 0s 2ms/step - loss: 144303.0469\n",
      "Epoch 69/250\n",
      "22/22 [==============================] - 0s 2ms/step - loss: 139515.5156\n",
      "Epoch 70/250\n",
      "22/22 [==============================] - 0s 2ms/step - loss: 134619.3906\n",
      "Epoch 71/250\n",
      "22/22 [==============================] - 0s 2ms/step - loss: 129607.5859\n",
      "Epoch 72/250\n",
      "22/22 [==============================] - 0s 2ms/step - loss: 124537.8594\n",
      "Epoch 73/250\n",
      "22/22 [==============================] - 0s 2ms/step - loss: 119411.3750\n",
      "Epoch 74/250\n",
      "22/22 [==============================] - 0s 2ms/step - loss: 114229.6719\n",
      "Epoch 75/250\n",
      "22/22 [==============================] - 0s 2ms/step - loss: 109000.2734\n",
      "Epoch 76/250\n",
      "22/22 [==============================] - 0s 2ms/step - loss: 103699.5859\n",
      "Epoch 77/250\n",
      "22/22 [==============================] - 0s 2ms/step - loss: 98385.4609\n",
      "Epoch 78/250\n",
      "22/22 [==============================] - 0s 2ms/step - loss: 93052.2188\n",
      "Epoch 79/250\n",
      "22/22 [==============================] - 0s 2ms/step - loss: 87681.9766\n",
      "Epoch 80/250\n",
      "22/22 [==============================] - 0s 2ms/step - loss: 82317.5469\n",
      "Epoch 81/250\n",
      "22/22 [==============================] - 0s 2ms/step - loss: 76954.9531\n",
      "Epoch 82/250\n",
      "22/22 [==============================] - 0s 2ms/step - loss: 71673.6797\n",
      "Epoch 83/250\n",
      "22/22 [==============================] - 0s 2ms/step - loss: 66373.9453\n",
      "Epoch 84/250\n",
      "22/22 [==============================] - 0s 2ms/step - loss: 61152.0508\n",
      "Epoch 85/250\n",
      "22/22 [==============================] - 0s 2ms/step - loss: 56031.5898\n",
      "Epoch 86/250\n",
      "22/22 [==============================] - 0s 2ms/step - loss: 51030.0898\n",
      "Epoch 87/250\n",
      "22/22 [==============================] - 0s 2ms/step - loss: 46081.4766\n",
      "Epoch 88/250\n",
      "22/22 [==============================] - 0s 2ms/step - loss: 41326.0898\n",
      "Epoch 89/250\n",
      "22/22 [==============================] - 0s 2ms/step - loss: 36728.5156\n",
      "Epoch 90/250\n",
      "22/22 [==============================] - 0s 2ms/step - loss: 32287.1777\n",
      "Epoch 91/250\n",
      "22/22 [==============================] - 0s 2ms/step - loss: 28113.7793\n",
      "Epoch 92/250\n",
      "22/22 [==============================] - 0s 2ms/step - loss: 24119.4258\n",
      "Epoch 93/250\n",
      "22/22 [==============================] - 0s 2ms/step - loss: 20359.3750\n",
      "Epoch 94/250\n",
      "22/22 [==============================] - 0s 2ms/step - loss: 16960.2227\n",
      "Epoch 95/250\n",
      "22/22 [==============================] - 0s 2ms/step - loss: 13850.4541\n",
      "Epoch 96/250\n",
      "22/22 [==============================] - 0s 1ms/step - loss: 11072.9297\n",
      "Epoch 97/250\n",
      "22/22 [==============================] - 0s 2ms/step - loss: 8651.2754\n",
      "Epoch 98/250\n",
      "22/22 [==============================] - 0s 2ms/step - loss: 6662.0566\n",
      "Epoch 99/250\n",
      "22/22 [==============================] - 0s 1ms/step - loss: 5083.1152\n",
      "Epoch 100/250\n",
      "22/22 [==============================] - 0s 2ms/step - loss: 3916.4697\n",
      "Epoch 101/250\n",
      "22/22 [==============================] - 0s 2ms/step - loss: 3188.5708\n",
      "Epoch 102/250\n",
      "22/22 [==============================] - 0s 2ms/step - loss: 2852.4331\n",
      "Epoch 103/250\n",
      "22/22 [==============================] - 0s 2ms/step - loss: 2759.5708\n",
      "Epoch 104/250\n",
      "22/22 [==============================] - 0s 2ms/step - loss: 2718.0908\n",
      "Epoch 105/250\n",
      "22/22 [==============================] - 0s 2ms/step - loss: 2677.1521\n",
      "Epoch 106/250\n",
      "22/22 [==============================] - 0s 2ms/step - loss: 2643.9929\n",
      "Epoch 107/250\n",
      "22/22 [==============================] - 0s 2ms/step - loss: 2603.7632\n",
      "Epoch 108/250\n",
      "22/22 [==============================] - 0s 2ms/step - loss: 2572.3403\n",
      "Epoch 109/250\n",
      "22/22 [==============================] - 0s 2ms/step - loss: 2535.2390\n",
      "Epoch 110/250\n",
      "22/22 [==============================] - 0s 2ms/step - loss: 2494.8865\n",
      "Epoch 111/250\n",
      "22/22 [==============================] - 0s 2ms/step - loss: 2459.8479\n",
      "Epoch 112/250\n",
      "22/22 [==============================] - 0s 2ms/step - loss: 2424.3662\n",
      "Epoch 113/250\n",
      "22/22 [==============================] - 0s 2ms/step - loss: 2389.6846\n",
      "Epoch 114/250\n",
      "22/22 [==============================] - 0s 2ms/step - loss: 2353.5298\n",
      "Epoch 115/250\n",
      "22/22 [==============================] - 0s 1ms/step - loss: 2317.2131\n",
      "Epoch 116/250\n",
      "22/22 [==============================] - 0s 2ms/step - loss: 2279.2883\n",
      "Epoch 117/250\n",
      "22/22 [==============================] - 0s 2ms/step - loss: 2245.6528\n",
      "Epoch 118/250\n",
      "22/22 [==============================] - 0s 2ms/step - loss: 2213.2891\n",
      "Epoch 119/250\n",
      "22/22 [==============================] - 0s 2ms/step - loss: 2180.0774\n",
      "Epoch 120/250\n",
      "22/22 [==============================] - 0s 2ms/step - loss: 2147.6689\n",
      "Epoch 121/250\n",
      "22/22 [==============================] - 0s 2ms/step - loss: 2117.4751\n",
      "Epoch 122/250\n",
      "22/22 [==============================] - 0s 2ms/step - loss: 2086.5271\n",
      "Epoch 123/250\n",
      "22/22 [==============================] - 0s 2ms/step - loss: 2055.7302\n",
      "Epoch 124/250\n",
      "22/22 [==============================] - 0s 2ms/step - loss: 2024.7604\n",
      "Epoch 125/250\n",
      "22/22 [==============================] - 0s 2ms/step - loss: 1992.2920\n",
      "Epoch 126/250\n",
      "22/22 [==============================] - 0s 2ms/step - loss: 1961.3124\n",
      "Epoch 127/250\n",
      "22/22 [==============================] - 0s 2ms/step - loss: 1928.4716\n",
      "Epoch 128/250\n",
      "22/22 [==============================] - 0s 2ms/step - loss: 1900.0018\n",
      "Epoch 129/250\n",
      "22/22 [==============================] - 0s 2ms/step - loss: 1865.4082\n",
      "Epoch 130/250\n",
      "22/22 [==============================] - 0s 2ms/step - loss: 1831.8325\n",
      "Epoch 131/250\n",
      "22/22 [==============================] - 0s 2ms/step - loss: 1800.9523\n",
      "Epoch 132/250\n",
      "22/22 [==============================] - 0s 2ms/step - loss: 1771.2882\n",
      "Epoch 133/250\n",
      "22/22 [==============================] - 0s 2ms/step - loss: 1739.7974\n",
      "Epoch 134/250\n",
      "22/22 [==============================] - 0s 2ms/step - loss: 1711.1644\n",
      "Epoch 135/250\n",
      "22/22 [==============================] - 0s 2ms/step - loss: 1683.4139\n",
      "Epoch 136/250\n",
      "22/22 [==============================] - 0s 1ms/step - loss: 1654.3743\n",
      "Epoch 137/250\n",
      "22/22 [==============================] - 0s 2ms/step - loss: 1623.7322\n",
      "Epoch 138/250\n",
      "22/22 [==============================] - 0s 2ms/step - loss: 1590.0865\n",
      "Epoch 139/250\n",
      "22/22 [==============================] - 0s 1ms/step - loss: 1560.5972\n",
      "Epoch 140/250\n",
      "22/22 [==============================] - 0s 2ms/step - loss: 1529.4664\n",
      "Epoch 141/250\n",
      "22/22 [==============================] - 0s 2ms/step - loss: 1500.2395\n",
      "Epoch 142/250\n",
      "22/22 [==============================] - 0s 1ms/step - loss: 1475.4026\n",
      "Epoch 143/250\n",
      "22/22 [==============================] - 0s 2ms/step - loss: 1443.3286\n",
      "Epoch 144/250\n",
      "22/22 [==============================] - 0s 2ms/step - loss: 1417.8252\n",
      "Epoch 145/250\n",
      "22/22 [==============================] - 0s 2ms/step - loss: 1384.5844\n",
      "Epoch 146/250\n",
      "22/22 [==============================] - 0s 2ms/step - loss: 1360.4784\n",
      "Epoch 147/250\n",
      "22/22 [==============================] - 0s 2ms/step - loss: 1330.5045\n",
      "Epoch 148/250\n",
      "22/22 [==============================] - 0s 2ms/step - loss: 1303.7823\n",
      "Epoch 149/250\n",
      "22/22 [==============================] - 0s 2ms/step - loss: 1276.1970\n",
      "Epoch 150/250\n",
      "22/22 [==============================] - 0s 2ms/step - loss: 1251.9922\n",
      "Epoch 151/250\n",
      "22/22 [==============================] - 0s 2ms/step - loss: 1224.6467\n",
      "Epoch 152/250\n",
      "22/22 [==============================] - 0s 1ms/step - loss: 1195.3149\n",
      "Epoch 153/250\n",
      "22/22 [==============================] - 0s 1ms/step - loss: 1167.6974\n",
      "Epoch 154/250\n",
      "22/22 [==============================] - 0s 2ms/step - loss: 1139.2744\n",
      "Epoch 155/250\n",
      "22/22 [==============================] - 0s 2ms/step - loss: 1111.9536\n",
      "Epoch 156/250\n",
      "22/22 [==============================] - 0s 2ms/step - loss: 1092.7344\n",
      "Epoch 157/250\n",
      "22/22 [==============================] - 0s 1ms/step - loss: 1068.6339\n",
      "Epoch 158/250\n",
      "22/22 [==============================] - 0s 2ms/step - loss: 1040.8951\n",
      "Epoch 159/250\n",
      "22/22 [==============================] - 0s 2ms/step - loss: 1016.4680\n",
      "Epoch 160/250\n",
      "22/22 [==============================] - 0s 1ms/step - loss: 990.4254\n",
      "Epoch 161/250\n",
      "22/22 [==============================] - 0s 2ms/step - loss: 968.2961\n",
      "Epoch 162/250\n",
      "22/22 [==============================] - 0s 2ms/step - loss: 944.0887\n",
      "Epoch 163/250\n",
      "22/22 [==============================] - 0s 2ms/step - loss: 918.2157\n",
      "Epoch 164/250\n",
      "22/22 [==============================] - 0s 1ms/step - loss: 896.1119\n",
      "Epoch 165/250\n",
      "22/22 [==============================] - 0s 2ms/step - loss: 868.6775\n",
      "Epoch 166/250\n",
      "22/22 [==============================] - 0s 2ms/step - loss: 844.6882\n",
      "Epoch 167/250\n",
      "22/22 [==============================] - 0s 1ms/step - loss: 822.8032\n",
      "Epoch 168/250\n",
      "22/22 [==============================] - 0s 2ms/step - loss: 796.5428\n",
      "Epoch 169/250\n",
      "22/22 [==============================] - 0s 2ms/step - loss: 777.0154\n",
      "Epoch 170/250\n",
      "22/22 [==============================] - 0s 1ms/step - loss: 750.8470\n",
      "Epoch 171/250\n",
      "22/22 [==============================] - 0s 2ms/step - loss: 728.1824\n",
      "Epoch 172/250\n",
      "22/22 [==============================] - 0s 2ms/step - loss: 705.6605\n",
      "Epoch 173/250\n",
      "22/22 [==============================] - 0s 2ms/step - loss: 684.4446\n",
      "Epoch 174/250\n",
      "22/22 [==============================] - 0s 1ms/step - loss: 663.8620\n",
      "Epoch 175/250\n",
      "22/22 [==============================] - 0s 2ms/step - loss: 644.8771\n",
      "Epoch 176/250\n",
      "22/22 [==============================] - 0s 2ms/step - loss: 620.7592\n",
      "Epoch 177/250\n",
      "22/22 [==============================] - 0s 2ms/step - loss: 597.6455\n",
      "Epoch 178/250\n",
      "22/22 [==============================] - 0s 2ms/step - loss: 575.6323\n",
      "Epoch 179/250\n",
      "22/22 [==============================] - 0s 2ms/step - loss: 554.8400\n",
      "Epoch 180/250\n",
      "22/22 [==============================] - 0s 2ms/step - loss: 536.6128\n",
      "Epoch 181/250\n",
      "22/22 [==============================] - 0s 2ms/step - loss: 518.3422\n",
      "Epoch 182/250\n",
      "22/22 [==============================] - 0s 3ms/step - loss: 498.5860\n",
      "Epoch 183/250\n",
      "22/22 [==============================] - 0s 2ms/step - loss: 484.3810\n",
      "Epoch 184/250\n",
      "22/22 [==============================] - 0s 2ms/step - loss: 464.3612\n",
      "Epoch 185/250\n",
      "22/22 [==============================] - 0s 2ms/step - loss: 444.0333\n",
      "Epoch 186/250\n",
      "22/22 [==============================] - 0s 2ms/step - loss: 427.1064\n",
      "Epoch 187/250\n",
      "22/22 [==============================] - 0s 2ms/step - loss: 407.8873\n",
      "Epoch 188/250\n",
      "22/22 [==============================] - 0s 2ms/step - loss: 390.0580\n",
      "Epoch 189/250\n",
      "22/22 [==============================] - 0s 2ms/step - loss: 372.9724\n",
      "Epoch 190/250\n",
      "22/22 [==============================] - 0s 2ms/step - loss: 355.6474\n",
      "Epoch 191/250\n",
      "22/22 [==============================] - 0s 2ms/step - loss: 340.7554\n",
      "Epoch 192/250\n",
      "22/22 [==============================] - 0s 2ms/step - loss: 323.9185\n"
     ]
    },
    {
     "name": "stdout",
     "output_type": "stream",
     "text": [
      "Epoch 193/250\n",
      "22/22 [==============================] - 0s 2ms/step - loss: 309.1253\n",
      "Epoch 194/250\n",
      "22/22 [==============================] - 0s 2ms/step - loss: 293.3532\n",
      "Epoch 195/250\n",
      "22/22 [==============================] - 0s 2ms/step - loss: 279.0038\n",
      "Epoch 196/250\n",
      "22/22 [==============================] - 0s 1ms/step - loss: 264.1976\n",
      "Epoch 197/250\n",
      "22/22 [==============================] - 0s 1ms/step - loss: 250.4339\n",
      "Epoch 198/250\n",
      "22/22 [==============================] - 0s 2ms/step - loss: 241.3121\n",
      "Epoch 199/250\n",
      "22/22 [==============================] - 0s 2ms/step - loss: 228.0174\n",
      "Epoch 200/250\n",
      "22/22 [==============================] - 0s 2ms/step - loss: 214.7478\n",
      "Epoch 201/250\n",
      "22/22 [==============================] - 0s 2ms/step - loss: 202.5743\n",
      "Epoch 202/250\n",
      "22/22 [==============================] - 0s 1ms/step - loss: 191.8015\n",
      "Epoch 203/250\n",
      "22/22 [==============================] - 0s 1ms/step - loss: 180.8138\n",
      "Epoch 204/250\n",
      "22/22 [==============================] - 0s 1ms/step - loss: 170.4385\n",
      "Epoch 205/250\n",
      "22/22 [==============================] - 0s 2ms/step - loss: 159.3303\n",
      "Epoch 206/250\n",
      "22/22 [==============================] - 0s 2ms/step - loss: 148.1865\n",
      "Epoch 207/250\n",
      "22/22 [==============================] - 0s 2ms/step - loss: 138.2263\n",
      "Epoch 208/250\n",
      "22/22 [==============================] - 0s 2ms/step - loss: 129.1439\n",
      "Epoch 209/250\n",
      "22/22 [==============================] - 0s 1ms/step - loss: 119.7791\n",
      "Epoch 210/250\n",
      "22/22 [==============================] - 0s 2ms/step - loss: 112.9939\n",
      "Epoch 211/250\n",
      "22/22 [==============================] - 0s 2ms/step - loss: 104.4800\n",
      "Epoch 212/250\n",
      "22/22 [==============================] - 0s 2ms/step - loss: 98.2648\n",
      "Epoch 213/250\n",
      "22/22 [==============================] - 0s 2ms/step - loss: 90.6745\n",
      "Epoch 214/250\n",
      "22/22 [==============================] - 0s 2ms/step - loss: 83.7448\n",
      "Epoch 215/250\n",
      "22/22 [==============================] - 0s 2ms/step - loss: 77.1940\n",
      "Epoch 216/250\n",
      "22/22 [==============================] - 0s 2ms/step - loss: 71.4238\n",
      "Epoch 217/250\n",
      "22/22 [==============================] - 0s 1ms/step - loss: 65.9778\n",
      "Epoch 218/250\n",
      "22/22 [==============================] - 0s 2ms/step - loss: 60.8988\n",
      "Epoch 219/250\n",
      "22/22 [==============================] - 0s 1ms/step - loss: 57.1757\n",
      "Epoch 220/250\n",
      "22/22 [==============================] - 0s 2ms/step - loss: 52.9426\n",
      "Epoch 221/250\n",
      "22/22 [==============================] - 0s 2ms/step - loss: 49.2752\n",
      "Epoch 222/250\n",
      "22/22 [==============================] - 0s 2ms/step - loss: 45.7619\n",
      "Epoch 223/250\n",
      "22/22 [==============================] - 0s 1ms/step - loss: 42.7363\n",
      "Epoch 224/250\n",
      "22/22 [==============================] - 0s 2ms/step - loss: 39.7106\n",
      "Epoch 225/250\n",
      "22/22 [==============================] - 0s 2ms/step - loss: 37.8103\n",
      "Epoch 226/250\n",
      "22/22 [==============================] - 0s 1ms/step - loss: 35.5382\n",
      "Epoch 227/250\n",
      "22/22 [==============================] - 0s 2ms/step - loss: 34.2900\n",
      "Epoch 228/250\n",
      "22/22 [==============================] - 0s 2ms/step - loss: 32.6616\n",
      "Epoch 229/250\n",
      "22/22 [==============================] - 0s 2ms/step - loss: 31.0714\n",
      "Epoch 230/250\n",
      "22/22 [==============================] - 0s 2ms/step - loss: 30.2074\n",
      "Epoch 231/250\n",
      "22/22 [==============================] - 0s 2ms/step - loss: 29.1084\n",
      "Epoch 232/250\n",
      "22/22 [==============================] - 0s 2ms/step - loss: 28.3030\n",
      "Epoch 233/250\n",
      "22/22 [==============================] - 0s 2ms/step - loss: 27.9876\n",
      "Epoch 234/250\n",
      "22/22 [==============================] - 0s 2ms/step - loss: 27.0658\n",
      "Epoch 235/250\n",
      "22/22 [==============================] - 0s 2ms/step - loss: 26.8719\n",
      "Epoch 236/250\n",
      "22/22 [==============================] - 0s 2ms/step - loss: 26.0346\n",
      "Epoch 237/250\n",
      "22/22 [==============================] - 0s 2ms/step - loss: 26.1954\n",
      "Epoch 238/250\n",
      "22/22 [==============================] - 0s 2ms/step - loss: 25.9301\n",
      "Epoch 239/250\n",
      "22/22 [==============================] - 0s 2ms/step - loss: 25.3194\n",
      "Epoch 240/250\n",
      "22/22 [==============================] - 0s 2ms/step - loss: 25.3905\n",
      "Epoch 241/250\n",
      "22/22 [==============================] - 0s 2ms/step - loss: 24.7241\n",
      "Epoch 242/250\n",
      "22/22 [==============================] - 0s 2ms/step - loss: 24.7747\n",
      "Epoch 243/250\n",
      "22/22 [==============================] - 0s 2ms/step - loss: 24.6159\n",
      "Epoch 244/250\n",
      "22/22 [==============================] - 0s 2ms/step - loss: 24.6479\n",
      "Epoch 245/250\n",
      "22/22 [==============================] - 0s 3ms/step - loss: 24.4211\n",
      "Epoch 246/250\n",
      "22/22 [==============================] - 0s 3ms/step - loss: 24.6496\n",
      "Epoch 247/250\n",
      "22/22 [==============================] - 0s 2ms/step - loss: 24.2561\n",
      "Epoch 248/250\n",
      "22/22 [==============================] - 0s 2ms/step - loss: 24.3662\n",
      "Epoch 249/250\n",
      "22/22 [==============================] - 0s 2ms/step - loss: 24.5711\n",
      "Epoch 250/250\n",
      "22/22 [==============================] - 0s 2ms/step - loss: 24.2362\n"
     ]
    },
    {
     "data": {
      "text/plain": [
       "<keras.callbacks.History at 0x29bfc4ce6a0>"
      ]
     },
     "execution_count": 52,
     "metadata": {},
     "output_type": "execute_result"
    }
   ],
   "source": [
    "model.fit(x = X_train, y = y_train, epochs = 250)"
   ]
  },
  {
   "cell_type": "code",
   "execution_count": 53,
   "id": "39527c89",
   "metadata": {},
   "outputs": [],
   "source": [
    "loss_df = pd.DataFrame(model.history.history)"
   ]
  },
  {
   "cell_type": "code",
   "execution_count": 54,
   "id": "6e9a7ad4",
   "metadata": {},
   "outputs": [
    {
     "data": {
      "text/plain": [
       "<AxesSubplot:>"
      ]
     },
     "execution_count": 54,
     "metadata": {},
     "output_type": "execute_result"
    },
    {
     "data": {
      "image/png": "[encoded data removed]",
      "text/plain": [
       "<Figure size 640x480 with 1 Axes>"
      ]
     },
     "metadata": {},
     "output_type": "display_data"
    }
   ],
   "source": [
    "loss_df.plot()"
   ]
  },
  {
   "cell_type": "code",
   "execution_count": 55,
   "id": "d7a1dd50",
   "metadata": {},
   "outputs": [
    {
     "data": {
      "text/plain": [
       "25.056657791137695"
      ]
     },
     "execution_count": 55,
     "metadata": {},
     "output_type": "execute_result"
    }
   ],
   "source": [
    "# now lets do some model evaluation\n",
    "\n",
    "model.evaluate(X_test,y_test,verbose=0)"
   ]
  },
  {
   "cell_type": "code",
   "execution_count": 56,
   "id": "8cffdc0b",
   "metadata": {},
   "outputs": [
    {
     "data": {
      "text/plain": [
       "24.037120819091797"
      ]
     },
     "execution_count": 56,
     "metadata": {},
     "output_type": "execute_result"
    }
   ],
   "source": [
    "model.evaluate(X_train,y_train,verbose=0)"
   ]
  },
  {
   "cell_type": "code",
   "execution_count": 57,
   "id": "bd2d5c04",
   "metadata": {},
   "outputs": [
    {
     "name": "stdout",
     "output_type": "stream",
     "text": [
      "10/10 [==============================] - 0s 3ms/step\n"
     ]
    }
   ],
   "source": [
    "test_predictions = model.predict(X_test)"
   ]
  },
  {
   "cell_type": "code",
   "execution_count": 58,
   "id": "71e34cd5",
   "metadata": {},
   "outputs": [
    {
     "data": {
      "text/plain": [
       "array([[405.57532],\n",
       "       [623.10126],\n",
       "       [591.71533],\n",
       "       [572.1461 ],\n",
       "       [367.39014],\n",
       "       [578.94183],\n",
       "       [515.3239 ],\n",
       "       [459.0736 ],\n",
       "       [549.23486],\n",
       "       [447.49582],\n",
       "       [611.3777 ],\n",
       "       [548.3987 ],\n",
       "       [419.3671 ],\n",
       "       [409.22763],\n",
       "       [650.33716],\n",
       "       [437.37766],\n",
       "       [508.0984 ],\n",
       "       [659.6802 ],\n",
       "       [662.1478 ],\n",
       "       [565.1486 ],\n",
       "       [334.93378],\n",
       "       [445.01074],\n",
       "       [383.02393],\n",
       "       [379.11276],\n",
       "       [566.3713 ],\n",
       "       [610.3855 ],\n",
       "       [532.3085 ],\n",
       "       [428.0374 ],\n",
       "       [655.11334],\n",
       "       [414.19733],\n",
       "       [442.65973],\n",
       "       [485.1477 ],\n",
       "       [438.56348],\n",
       "       [681.3801 ],\n",
       "       [424.74448],\n",
       "       [418.08304],\n",
       "       [501.50867],\n",
       "       [550.25024],\n",
       "       [509.95016],\n",
       "       [396.0176 ],\n",
       "       [618.09064],\n",
       "       [416.7718 ],\n",
       "       [604.00903],\n",
       "       [445.85645],\n",
       "       [501.96112],\n",
       "       [581.02545],\n",
       "       [668.1236 ],\n",
       "       [490.2665 ],\n",
       "       [318.9894 ],\n",
       "       [485.4818 ],\n",
       "       [517.1215 ],\n",
       "       [381.98694],\n",
       "       [541.4745 ],\n",
       "       [408.85764],\n",
       "       [640.92914],\n",
       "       [491.14368],\n",
       "       [627.7731 ],\n",
       "       [626.24817],\n",
       "       [447.1967 ],\n",
       "       [484.90125],\n",
       "       [491.27158],\n",
       "       [474.5017 ],\n",
       "       [682.0934 ],\n",
       "       [403.70224],\n",
       "       [700.41943],\n",
       "       [586.1843 ],\n",
       "       [582.7817 ],\n",
       "       [537.55615],\n",
       "       [484.61777],\n",
       "       [516.6501 ],\n",
       "       [361.61615],\n",
       "       [540.5963 ],\n",
       "       [570.4571 ],\n",
       "       [527.98096],\n",
       "       [453.78552],\n",
       "       [530.91364],\n",
       "       [506.94727],\n",
       "       [443.6928 ],\n",
       "       [543.2656 ],\n",
       "       [640.0244 ],\n",
       "       [466.43488],\n",
       "       [566.92334],\n",
       "       [689.8664 ],\n",
       "       [458.96158],\n",
       "       [708.39734],\n",
       "       [472.79456],\n",
       "       [403.3147 ],\n",
       "       [584.826  ],\n",
       "       [436.66232],\n",
       "       [488.8423 ],\n",
       "       [616.5556 ],\n",
       "       [439.48322],\n",
       "       [455.64572],\n",
       "       [435.51358],\n",
       "       [507.0788 ],\n",
       "       [608.1539 ],\n",
       "       [322.22186],\n",
       "       [436.36993],\n",
       "       [536.11224],\n",
       "       [518.7095 ],\n",
       "       [604.90875],\n",
       "       [525.4052 ],\n",
       "       [334.4643 ],\n",
       "       [575.63544],\n",
       "       [432.3641 ],\n",
       "       [561.9499 ],\n",
       "       [513.2978 ],\n",
       "       [391.53488],\n",
       "       [566.3502 ],\n",
       "       [454.59625],\n",
       "       [448.74304],\n",
       "       [640.4405 ],\n",
       "       [524.0799 ],\n",
       "       [550.32446],\n",
       "       [417.95935],\n",
       "       [478.8544 ],\n",
       "       [586.20984],\n",
       "       [666.9534 ],\n",
       "       [699.918  ],\n",
       "       [659.1961 ],\n",
       "       [560.3455 ],\n",
       "       [502.9761 ],\n",
       "       [390.93048],\n",
       "       [282.14615],\n",
       "       [479.5756 ],\n",
       "       [615.7262 ],\n",
       "       [373.464  ],\n",
       "       [512.1828 ],\n",
       "       [511.24316],\n",
       "       [493.6229 ],\n",
       "       [480.4857 ],\n",
       "       [424.26468],\n",
       "       [493.5321 ],\n",
       "       [471.5112 ],\n",
       "       [599.8321 ],\n",
       "       [572.9682 ],\n",
       "       [415.53717],\n",
       "       [630.1353 ],\n",
       "       [466.3369 ],\n",
       "       [563.9542 ],\n",
       "       [406.0009 ],\n",
       "       [532.08014],\n",
       "       [572.4047 ],\n",
       "       [357.655  ],\n",
       "       [549.7479 ],\n",
       "       [603.01086],\n",
       "       [384.74213],\n",
       "       [542.40247],\n",
       "       [562.34894],\n",
       "       [452.83972],\n",
       "       [631.7197 ],\n",
       "       [372.9222 ],\n",
       "       [474.48526],\n",
       "       [528.9812 ],\n",
       "       [372.5941 ],\n",
       "       [461.52728],\n",
       "       [436.68652],\n",
       "       [498.51193],\n",
       "       [346.38535],\n",
       "       [395.47318],\n",
       "       [604.12   ],\n",
       "       [506.5297 ],\n",
       "       [468.74857],\n",
       "       [490.23334],\n",
       "       [534.8773 ],\n",
       "       [345.0629 ],\n",
       "       [511.82794],\n",
       "       [251.5045 ],\n",
       "       [504.04434],\n",
       "       [541.25006],\n",
       "       [489.43878],\n",
       "       [470.7991 ],\n",
       "       [392.84995],\n",
       "       [416.1939 ],\n",
       "       [549.4826 ],\n",
       "       [476.05963],\n",
       "       [579.84796],\n",
       "       [490.0155 ],\n",
       "       [600.94   ],\n",
       "       [546.6651 ],\n",
       "       [541.69006],\n",
       "       [500.5335 ],\n",
       "       [645.4137 ],\n",
       "       [560.2588 ],\n",
       "       [577.31586],\n",
       "       [444.0132 ],\n",
       "       [415.56604],\n",
       "       [420.5023 ],\n",
       "       [568.6979 ],\n",
       "       [608.73944],\n",
       "       [437.78387],\n",
       "       [487.90662],\n",
       "       [587.6706 ],\n",
       "       [525.44525],\n",
       "       [357.888  ],\n",
       "       [645.0382 ],\n",
       "       [528.0714 ],\n",
       "       [337.72784],\n",
       "       [492.7231 ],\n",
       "       [410.21118],\n",
       "       [606.1717 ],\n",
       "       [346.79742],\n",
       "       [522.11206],\n",
       "       [404.87302],\n",
       "       [259.56177],\n",
       "       [519.67303],\n",
       "       [341.0432 ],\n",
       "       [362.7381 ],\n",
       "       [575.9039 ],\n",
       "       [416.70078],\n",
       "       [550.92303],\n",
       "       [521.10626],\n",
       "       [511.20126],\n",
       "       [325.2311 ],\n",
       "       [404.74045],\n",
       "       [602.233  ],\n",
       "       [617.60834],\n",
       "       [603.30316],\n",
       "       [565.789  ],\n",
       "       [473.69275],\n",
       "       [460.44888],\n",
       "       [508.4317 ],\n",
       "       [445.90048],\n",
       "       [510.99603],\n",
       "       [502.6655 ],\n",
       "       [400.33093],\n",
       "       [605.1825 ],\n",
       "       [258.97113],\n",
       "       [627.71423],\n",
       "       [588.41125],\n",
       "       [327.52145],\n",
       "       [479.79498],\n",
       "       [594.94324],\n",
       "       [378.72192],\n",
       "       [460.2957 ],\n",
       "       [325.3629 ],\n",
       "       [518.40845],\n",
       "       [409.61987],\n",
       "       [555.94806],\n",
       "       [641.3061 ],\n",
       "       [536.7319 ],\n",
       "       [503.01978],\n",
       "       [634.3766 ],\n",
       "       [515.0523 ],\n",
       "       [531.5877 ],\n",
       "       [518.9243 ],\n",
       "       [457.49606],\n",
       "       [505.58365],\n",
       "       [461.12592],\n",
       "       [591.06213],\n",
       "       [466.086  ],\n",
       "       [427.5713 ],\n",
       "       [541.63544],\n",
       "       [493.8567 ],\n",
       "       [679.53406],\n",
       "       [373.19257],\n",
       "       [551.40533],\n",
       "       [577.66693],\n",
       "       [434.34366],\n",
       "       [542.97235],\n",
       "       [585.4378 ],\n",
       "       [578.74194],\n",
       "       [720.23126],\n",
       "       [433.2459 ],\n",
       "       [398.7888 ],\n",
       "       [314.4827 ],\n",
       "       [448.551  ],\n",
       "       [388.12625],\n",
       "       [543.19165],\n",
       "       [522.70404],\n",
       "       [563.92456],\n",
       "       [448.14813],\n",
       "       [534.1816 ],\n",
       "       [382.09824],\n",
       "       [501.4392 ],\n",
       "       [636.7956 ],\n",
       "       [496.24857],\n",
       "       [568.27606],\n",
       "       [470.32413],\n",
       "       [273.66208],\n",
       "       [517.43463],\n",
       "       [621.05133],\n",
       "       [350.99237],\n",
       "       [450.85428],\n",
       "       [499.4112 ],\n",
       "       [542.83026],\n",
       "       [611.28906],\n",
       "       [388.8209 ],\n",
       "       [449.84772],\n",
       "       [482.3649 ],\n",
       "       [598.0648 ],\n",
       "       [499.63138],\n",
       "       [322.01654],\n",
       "       [554.96094],\n",
       "       [444.76968],\n",
       "       [529.08057],\n",
       "       [515.4037 ],\n",
       "       [609.2186 ],\n",
       "       [417.03293],\n",
       "       [411.28064]], dtype=float32)"
      ]
     },
     "execution_count": 58,
     "metadata": {},
     "output_type": "execute_result"
    }
   ],
   "source": [
    "test_predictions"
   ]
  },
  {
   "cell_type": "code",
   "execution_count": 59,
   "id": "9f99eb79",
   "metadata": {},
   "outputs": [],
   "source": [
    "# making a panda series instead of numpy array\n",
    "test_predictions = pd.Series(test_predictions.reshape(300,))"
   ]
  },
  {
   "cell_type": "code",
   "execution_count": 60,
   "id": "5e7fd669",
   "metadata": {},
   "outputs": [
    {
     "data": {
      "text/plain": [
       "0      405.575317\n",
       "1      623.101257\n",
       "2      591.715332\n",
       "3      572.146118\n",
       "4      367.390137\n",
       "          ...    \n",
       "295    529.080566\n",
       "296    515.403687\n",
       "297    609.218628\n",
       "298    417.032928\n",
       "299    411.280640\n",
       "Length: 300, dtype: float32"
      ]
     },
     "execution_count": 60,
     "metadata": {},
     "output_type": "execute_result"
    }
   ],
   "source": [
    "test_predictions"
   ]
  },
  {
   "cell_type": "code",
   "execution_count": 61,
   "id": "22a90040",
   "metadata": {},
   "outputs": [],
   "source": [
    "pred_df = pd.DataFrame(y_test,columns=['Test True Y'])"
   ]
  },
  {
   "cell_type": "code",
   "execution_count": 62,
   "id": "f30483b1",
   "metadata": {},
   "outputs": [],
   "source": [
    "pred_df = pd.concat([pred_df,test_predictions],axis=1)"
   ]
  },
  {
   "cell_type": "code",
   "execution_count": 65,
   "id": "49c08c83",
   "metadata": {},
   "outputs": [],
   "source": [
    "pred_df.columns = ['Test True Y','Model Predictions']"
   ]
  },
  {
   "cell_type": "code",
   "execution_count": 66,
   "id": "661f7a66",
   "metadata": {},
   "outputs": [
    {
     "data": {
      "text/html": [
       "<div>\n",
       "<style scoped>\n",
       "    .dataframe tbody tr th:only-of-type {\n",
       "        vertical-align: middle;\n",
       "    }\n",
       "\n",
       "    .dataframe tbody tr th {\n",
       "        vertical-align: top;\n",
       "    }\n",
       "\n",
       "    .dataframe thead th {\n",
       "        text-align: right;\n",
       "    }\n",
       "</style>\n",
       "<table border=\"1\" class=\"dataframe\">\n",
       "  <thead>\n",
       "    <tr style=\"text-align: right;\">\n",
       "      <th></th>\n",
       "      <th>Test True Y</th>\n",
       "      <th>Model Predictions</th>\n",
       "    </tr>\n",
       "  </thead>\n",
       "  <tbody>\n",
       "    <tr>\n",
       "      <th>0</th>\n",
       "      <td>402.296319</td>\n",
       "      <td>405.575317</td>\n",
       "    </tr>\n",
       "    <tr>\n",
       "      <th>1</th>\n",
       "      <td>624.156198</td>\n",
       "      <td>623.101257</td>\n",
       "    </tr>\n",
       "    <tr>\n",
       "      <th>2</th>\n",
       "      <td>582.455066</td>\n",
       "      <td>591.715332</td>\n",
       "    </tr>\n",
       "    <tr>\n",
       "      <th>3</th>\n",
       "      <td>578.588606</td>\n",
       "      <td>572.146118</td>\n",
       "    </tr>\n",
       "    <tr>\n",
       "      <th>4</th>\n",
       "      <td>371.224104</td>\n",
       "      <td>367.390137</td>\n",
       "    </tr>\n",
       "    <tr>\n",
       "      <th>...</th>\n",
       "      <td>...</td>\n",
       "      <td>...</td>\n",
       "    </tr>\n",
       "    <tr>\n",
       "      <th>295</th>\n",
       "      <td>525.704657</td>\n",
       "      <td>529.080566</td>\n",
       "    </tr>\n",
       "    <tr>\n",
       "      <th>296</th>\n",
       "      <td>502.909473</td>\n",
       "      <td>515.403687</td>\n",
       "    </tr>\n",
       "    <tr>\n",
       "      <th>297</th>\n",
       "      <td>612.727910</td>\n",
       "      <td>609.218628</td>\n",
       "    </tr>\n",
       "    <tr>\n",
       "      <th>298</th>\n",
       "      <td>417.569725</td>\n",
       "      <td>417.032928</td>\n",
       "    </tr>\n",
       "    <tr>\n",
       "      <th>299</th>\n",
       "      <td>410.538250</td>\n",
       "      <td>411.280640</td>\n",
       "    </tr>\n",
       "  </tbody>\n",
       "</table>\n",
       "<p>300 rows × 2 columns</p>\n",
       "</div>"
      ],
      "text/plain": [
       "     Test True Y  Model Predictions\n",
       "0     402.296319         405.575317\n",
       "1     624.156198         623.101257\n",
       "2     582.455066         591.715332\n",
       "3     578.588606         572.146118\n",
       "4     371.224104         367.390137\n",
       "..           ...                ...\n",
       "295   525.704657         529.080566\n",
       "296   502.909473         515.403687\n",
       "297   612.727910         609.218628\n",
       "298   417.569725         417.032928\n",
       "299   410.538250         411.280640\n",
       "\n",
       "[300 rows x 2 columns]"
      ]
     },
     "execution_count": 66,
     "metadata": {},
     "output_type": "execute_result"
    }
   ],
   "source": [
    "pred_df"
   ]
  },
  {
   "cell_type": "code",
   "execution_count": 67,
   "id": "573e3adc",
   "metadata": {},
   "outputs": [
    {
     "data": {
      "text/plain": [
       "<AxesSubplot:xlabel='Test True Y', ylabel='Model Predictions'>"
      ]
     },
     "execution_count": 67,
     "metadata": {},
     "output_type": "execute_result"
    },
    {
     "data": {
      "image/png": "[encoded data removed]",
      "text/plain": [
       "<Figure size 640x480 with 1 Axes>"
      ]
     },
     "metadata": {},
     "output_type": "display_data"
    }
   ],
   "source": [
    "sns.scatterplot(x='Test True Y', y = 'Model Predictions', data=pred_df)"
   ]
  },
  {
   "cell_type": "code",
   "execution_count": null,
   "id": "6f71b5a2",
   "metadata": {},
   "outputs": [],
   "source": [
    "# the regression model is performing very well as visible from plot above"
   ]
  },
  {
   "cell_type": "code",
   "execution_count": 68,
   "id": "1451d081",
   "metadata": {},
   "outputs": [],
   "source": [
    "from sklearn.metrics import mean_absolute_error, mean_squared_error"
   ]
  },
  {
   "cell_type": "code",
   "execution_count": 72,
   "id": "cc0c3d1b",
   "metadata": {},
   "outputs": [
    {
     "data": {
      "text/plain": [
       "4.028907162321133"
      ]
     },
     "execution_count": 72,
     "metadata": {},
     "output_type": "execute_result"
    }
   ],
   "source": [
    "mean_absolute_error(pred_df['Test True Y'], pred_df['Model Predictions'])"
   ]
  },
  {
   "cell_type": "code",
   "execution_count": 74,
   "id": "be977fc1",
   "metadata": {},
   "outputs": [
    {
     "data": {
      "text/html": [
       "<div>\n",
       "<style scoped>\n",
       "    .dataframe tbody tr th:only-of-type {\n",
       "        vertical-align: middle;\n",
       "    }\n",
       "\n",
       "    .dataframe tbody tr th {\n",
       "        vertical-align: top;\n",
       "    }\n",
       "\n",
       "    .dataframe thead th {\n",
       "        text-align: right;\n",
       "    }\n",
       "</style>\n",
       "<table border=\"1\" class=\"dataframe\">\n",
       "  <thead>\n",
       "    <tr style=\"text-align: right;\">\n",
       "      <th></th>\n",
       "      <th>price</th>\n",
       "      <th>feature1</th>\n",
       "      <th>feature2</th>\n",
       "    </tr>\n",
       "  </thead>\n",
       "  <tbody>\n",
       "    <tr>\n",
       "      <th>count</th>\n",
       "      <td>1000.000000</td>\n",
       "      <td>1000.000000</td>\n",
       "      <td>1000.000000</td>\n",
       "    </tr>\n",
       "    <tr>\n",
       "      <th>mean</th>\n",
       "      <td>498.673029</td>\n",
       "      <td>1000.014171</td>\n",
       "      <td>999.979847</td>\n",
       "    </tr>\n",
       "    <tr>\n",
       "      <th>std</th>\n",
       "      <td>93.785431</td>\n",
       "      <td>0.974018</td>\n",
       "      <td>0.948330</td>\n",
       "    </tr>\n",
       "    <tr>\n",
       "      <th>min</th>\n",
       "      <td>223.346793</td>\n",
       "      <td>997.058347</td>\n",
       "      <td>996.995651</td>\n",
       "    </tr>\n",
       "    <tr>\n",
       "      <th>25%</th>\n",
       "      <td>433.025732</td>\n",
       "      <td>999.332068</td>\n",
       "      <td>999.316106</td>\n",
       "    </tr>\n",
       "    <tr>\n",
       "      <th>50%</th>\n",
       "      <td>502.382117</td>\n",
       "      <td>1000.009915</td>\n",
       "      <td>1000.002243</td>\n",
       "    </tr>\n",
       "    <tr>\n",
       "      <th>75%</th>\n",
       "      <td>564.921588</td>\n",
       "      <td>1000.637580</td>\n",
       "      <td>1000.645380</td>\n",
       "    </tr>\n",
       "    <tr>\n",
       "      <th>max</th>\n",
       "      <td>774.407854</td>\n",
       "      <td>1003.207934</td>\n",
       "      <td>1002.666308</td>\n",
       "    </tr>\n",
       "  </tbody>\n",
       "</table>\n",
       "</div>"
      ],
      "text/plain": [
       "             price     feature1     feature2\n",
       "count  1000.000000  1000.000000  1000.000000\n",
       "mean    498.673029  1000.014171   999.979847\n",
       "std      93.785431     0.974018     0.948330\n",
       "min     223.346793   997.058347   996.995651\n",
       "25%     433.025732   999.332068   999.316106\n",
       "50%     502.382117  1000.009915  1000.002243\n",
       "75%     564.921588  1000.637580  1000.645380\n",
       "max     774.407854  1003.207934  1002.666308"
      ]
     },
     "execution_count": 74,
     "metadata": {},
     "output_type": "execute_result"
    }
   ],
   "source": [
    "# right now on average we are 4 dollars off from the price point\n",
    "# it depends on the original data how good the error is\n",
    "df.describe()\n",
    "# the mean price is 498.67 dollars, so our error is less than 1 %\n",
    "# therefore the model is performing very well in predicting price\n",
    "# the errors can always be compared with the distribution of the data"
   ]
  },
  {
   "cell_type": "code",
   "execution_count": 85,
   "id": "af18665c",
   "metadata": {},
   "outputs": [
    {
     "name": "stdout",
     "output_type": "stream",
     "text": [
      "Mean Squared Error: 25.05665950150643\n",
      "Root Mean Squared Error: 5.005662743484266\n"
     ]
    }
   ],
   "source": [
    "mse = mean_squared_error(pred_df['Test True Y'], pred_df['Model Predictions'])\n",
    "# for root mean squared error just do\n",
    "rmse = mse ** 0.5\n",
    "print('Mean Squared Error: ' + str(mse))\n",
    "print('Root Mean Squared Error: ' + str(rmse))\n"
   ]
  },
  {
   "cell_type": "code",
   "execution_count": 86,
   "id": "d2b2550e",
   "metadata": {},
   "outputs": [],
   "source": [
    "# predicting on brand new data\n",
    "new_gem = [[998,1000]] # made up features"
   ]
  },
  {
   "cell_type": "code",
   "execution_count": 88,
   "id": "47c4fde5",
   "metadata": {},
   "outputs": [],
   "source": [
    "# now checking what should be the price\n",
    "new_gem = scaler.transform(new_gem)"
   ]
  },
  {
   "cell_type": "code",
   "execution_count": 90,
   "id": "81b9522d",
   "metadata": {},
   "outputs": [
    {
     "name": "stdout",
     "output_type": "stream",
     "text": [
      "1/1 [==============================] - 1s 1s/step\n"
     ]
    },
    {
     "data": {
      "text/plain": [
       "array([[420.2588]], dtype=float32)"
      ]
     },
     "execution_count": 90,
     "metadata": {},
     "output_type": "execute_result"
    }
   ],
   "source": [
    "model.predict(new_gem)"
   ]
  },
  {
   "cell_type": "code",
   "execution_count": 91,
   "id": "f96a8b7c",
   "metadata": {},
   "outputs": [],
   "source": [
    "# the price according to the features will now be 420.2588 dollars"
   ]
  },
  {
   "cell_type": "code",
   "execution_count": 92,
   "id": "15d7a618",
   "metadata": {},
   "outputs": [],
   "source": [
    "from tensorflow.keras.models import load_model"
   ]
  },
  {
   "cell_type": "code",
   "execution_count": 94,
   "id": "784497a9",
   "metadata": {},
   "outputs": [],
   "source": [
    "# saving the keras model\n",
    "model.save('my_gem_model.h5')"
   ]
  },
  {
   "cell_type": "code",
   "execution_count": 95,
   "id": "c4a3914f",
   "metadata": {},
   "outputs": [],
   "source": [
    "# loading the model\n",
    "later_model = load_model('my_gem_model.h5')"
   ]
  },
  {
   "cell_type": "code",
   "execution_count": 96,
   "id": "7599b08a",
   "metadata": {},
   "outputs": [
    {
     "name": "stdout",
     "output_type": "stream",
     "text": [
      "1/1 [==============================] - 0s 62ms/step\n"
     ]
    },
    {
     "data": {
      "text/plain": [
       "array([[420.2588]], dtype=float32)"
      ]
     },
     "execution_count": 96,
     "metadata": {},
     "output_type": "execute_result"
    }
   ],
   "source": [
    "later_model.predict(new_gem)"
   ]
  },
  {
   "cell_type": "code",
   "execution_count": 97,
   "id": "1a7b0b2a",
   "metadata": {},
   "outputs": [],
   "source": [
    "# notice we got the same results as we reloaded the model"
   ]
  },
  {
   "cell_type": "markdown",
   "id": "e0830090",
   "metadata": {},
   "source": [
    "### And now we come to the end of this basics project"
   ]
  },
  {
   "cell_type": "code",
   "execution_count": null,
   "id": "b3d5452c",
   "metadata": {},
   "outputs": [],
   "source": []
  }
 ],
 "metadata": {
  "kernelspec": {
   "display_name": "Python 3 (ipykernel)",
   "language": "python",
   "name": "python3"
  },
  "language_info": {
   "codemirror_mode": {
    "name": "ipython",
    "version": 3
   },
   "file_extension": ".py",
   "mimetype": "text/x-python",
   "name": "python",
   "nbconvert_exporter": "python",
   "pygments_lexer": "ipython3",
   "version": "3.9.13"
  }
 },
 "nbformat": 4,
 "nbformat_minor": 5
}
